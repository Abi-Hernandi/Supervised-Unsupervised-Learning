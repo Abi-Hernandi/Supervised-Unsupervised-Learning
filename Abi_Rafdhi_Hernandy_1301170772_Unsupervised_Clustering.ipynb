{
  "nbformat": 4,
  "nbformat_minor": 0,
  "metadata": {
    "kernelspec": {
      "display_name": "Python 3",
      "language": "python",
      "name": "python3"
    },
    "language_info": {
      "codemirror_mode": {
        "name": "ipython",
        "version": 3
      },
      "file_extension": ".py",
      "mimetype": "text/x-python",
      "name": "python",
      "nbconvert_exporter": "python",
      "pygments_lexer": "ipython3",
      "version": "3.7.4"
    },
    "colab": {
      "name": "Abi Rafdhi Hernandy_1301170772_Unsupervised_Clustering.ipynb",
      "provenance": [],
      "collapsed_sections": []
    }
  },
  "cells": [
    {
      "cell_type": "markdown",
      "metadata": {
        "id": "cS9JxHDCW3HS"
      },
      "source": [
        "###IMPORT PACKAGES"
      ]
    },
    {
      "cell_type": "code",
      "metadata": {
        "id": "acyIKPfcsAqQ"
      },
      "source": [
        "import pandas as pd\n",
        "import numpy as np\n",
        "import matplotlib.pyplot as plt"
      ],
      "execution_count": null,
      "outputs": []
    },
    {
      "cell_type": "markdown",
      "metadata": {
        "id": "Rj7kO0s3XAjt"
      },
      "source": [
        "###IMPORT DATA"
      ]
    },
    {
      "cell_type": "markdown",
      "metadata": {
        "id": "zHqc-FhEXEtD"
      },
      "source": [
        "* Read Dataset"
      ]
    },
    {
      "cell_type": "code",
      "metadata": {
        "id": "j8Q8lY_8sAqU"
      },
      "source": [
        "#read data csv\n",
        "data = pd.read_csv(\"air_bnb.csv\")"
      ],
      "execution_count": null,
      "outputs": []
    },
    {
      "cell_type": "markdown",
      "metadata": {
        "id": "xHCXXp6_XJ_u"
      },
      "source": [
        "###DATA CLEANSING"
      ]
    },
    {
      "cell_type": "markdown",
      "metadata": {
        "id": "m2b6b0WsXMpr"
      },
      "source": [
        "* Hapus data data yang bernilai Null/NaN lalu tampilkan"
      ]
    },
    {
      "cell_type": "code",
      "metadata": {
        "id": "36k-JAeysAqX",
        "outputId": "8c72ea10-fb74-4ff2-ddf0-14735d975052",
        "colab": {
          "base_uri": "https://localhost:8080/",
          "height": 808
        }
      },
      "source": [
        "#lihat isi dataset\n",
        "#hapus data yang NaN/Null\n",
        "dataset = data.dropna()\n",
        "dataset"
      ],
      "execution_count": null,
      "outputs": [
        {
          "output_type": "execute_result",
          "data": {
            "text/html": [
              "<div>\n",
              "<style scoped>\n",
              "    .dataframe tbody tr th:only-of-type {\n",
              "        vertical-align: middle;\n",
              "    }\n",
              "\n",
              "    .dataframe tbody tr th {\n",
              "        vertical-align: top;\n",
              "    }\n",
              "\n",
              "    .dataframe thead th {\n",
              "        text-align: right;\n",
              "    }\n",
              "</style>\n",
              "<table border=\"1\" class=\"dataframe\">\n",
              "  <thead>\n",
              "    <tr style=\"text-align: right;\">\n",
              "      <th></th>\n",
              "      <th>id</th>\n",
              "      <th>name</th>\n",
              "      <th>host_id</th>\n",
              "      <th>host_name</th>\n",
              "      <th>neighbourhood_group</th>\n",
              "      <th>neighbourhood</th>\n",
              "      <th>latitude</th>\n",
              "      <th>longitude</th>\n",
              "      <th>room_type</th>\n",
              "      <th>price</th>\n",
              "      <th>minimum_nights</th>\n",
              "      <th>number_of_reviews</th>\n",
              "      <th>last_review</th>\n",
              "      <th>reviews_per_month</th>\n",
              "      <th>calculated_host_listings_count</th>\n",
              "      <th>availability_365</th>\n",
              "    </tr>\n",
              "  </thead>\n",
              "  <tbody>\n",
              "    <tr>\n",
              "      <th>0</th>\n",
              "      <td>2015</td>\n",
              "      <td>Berlin-Mitte Value! Quiet courtyard/very central</td>\n",
              "      <td>2217</td>\n",
              "      <td>Ian</td>\n",
              "      <td>Mitte</td>\n",
              "      <td>Brunnenstr. Süd</td>\n",
              "      <td>52.534537</td>\n",
              "      <td>13.402557</td>\n",
              "      <td>Entire home/apt</td>\n",
              "      <td>60</td>\n",
              "      <td>4</td>\n",
              "      <td>118</td>\n",
              "      <td>2018-10-28</td>\n",
              "      <td>3.76</td>\n",
              "      <td>4</td>\n",
              "      <td>141</td>\n",
              "    </tr>\n",
              "    <tr>\n",
              "      <th>1</th>\n",
              "      <td>2695</td>\n",
              "      <td>Prenzlauer Berg close to Mauerpark</td>\n",
              "      <td>2986</td>\n",
              "      <td>Michael</td>\n",
              "      <td>Pankow</td>\n",
              "      <td>Prenzlauer Berg Nordwest</td>\n",
              "      <td>52.548513</td>\n",
              "      <td>13.404553</td>\n",
              "      <td>Private room</td>\n",
              "      <td>17</td>\n",
              "      <td>2</td>\n",
              "      <td>6</td>\n",
              "      <td>2018-10-01</td>\n",
              "      <td>1.42</td>\n",
              "      <td>1</td>\n",
              "      <td>0</td>\n",
              "    </tr>\n",
              "    <tr>\n",
              "      <th>2</th>\n",
              "      <td>3176</td>\n",
              "      <td>Fabulous Flat in great Location</td>\n",
              "      <td>3718</td>\n",
              "      <td>Britta</td>\n",
              "      <td>Pankow</td>\n",
              "      <td>Prenzlauer Berg Südwest</td>\n",
              "      <td>52.534996</td>\n",
              "      <td>13.417579</td>\n",
              "      <td>Entire home/apt</td>\n",
              "      <td>90</td>\n",
              "      <td>62</td>\n",
              "      <td>143</td>\n",
              "      <td>2017-03-20</td>\n",
              "      <td>1.25</td>\n",
              "      <td>1</td>\n",
              "      <td>220</td>\n",
              "    </tr>\n",
              "    <tr>\n",
              "      <th>3</th>\n",
              "      <td>3309</td>\n",
              "      <td>BerlinSpot Schöneberg near KaDeWe</td>\n",
              "      <td>4108</td>\n",
              "      <td>Jana</td>\n",
              "      <td>Tempelhof - Schöneberg</td>\n",
              "      <td>Schöneberg-Nord</td>\n",
              "      <td>52.498855</td>\n",
              "      <td>13.349065</td>\n",
              "      <td>Private room</td>\n",
              "      <td>26</td>\n",
              "      <td>5</td>\n",
              "      <td>25</td>\n",
              "      <td>2018-08-16</td>\n",
              "      <td>0.39</td>\n",
              "      <td>1</td>\n",
              "      <td>297</td>\n",
              "    </tr>\n",
              "    <tr>\n",
              "      <th>4</th>\n",
              "      <td>7071</td>\n",
              "      <td>BrightRoom with sunny greenview!</td>\n",
              "      <td>17391</td>\n",
              "      <td>Bright</td>\n",
              "      <td>Pankow</td>\n",
              "      <td>Helmholtzplatz</td>\n",
              "      <td>52.543157</td>\n",
              "      <td>13.415091</td>\n",
              "      <td>Private room</td>\n",
              "      <td>42</td>\n",
              "      <td>2</td>\n",
              "      <td>197</td>\n",
              "      <td>2018-11-04</td>\n",
              "      <td>1.75</td>\n",
              "      <td>1</td>\n",
              "      <td>26</td>\n",
              "    </tr>\n",
              "    <tr>\n",
              "      <th>...</th>\n",
              "      <td>...</td>\n",
              "      <td>...</td>\n",
              "      <td>...</td>\n",
              "      <td>...</td>\n",
              "      <td>...</td>\n",
              "      <td>...</td>\n",
              "      <td>...</td>\n",
              "      <td>...</td>\n",
              "      <td>...</td>\n",
              "      <td>...</td>\n",
              "      <td>...</td>\n",
              "      <td>...</td>\n",
              "      <td>...</td>\n",
              "      <td>...</td>\n",
              "      <td>...</td>\n",
              "      <td>...</td>\n",
              "    </tr>\n",
              "    <tr>\n",
              "      <th>22449</th>\n",
              "      <td>29772631</td>\n",
              "      <td>Cosy and lovely room near Ostkreuz</td>\n",
              "      <td>20727291</td>\n",
              "      <td>Anna</td>\n",
              "      <td>Lichtenberg</td>\n",
              "      <td>Neu Lichtenberg</td>\n",
              "      <td>52.502952</td>\n",
              "      <td>13.490870</td>\n",
              "      <td>Private room</td>\n",
              "      <td>25</td>\n",
              "      <td>2</td>\n",
              "      <td>1</td>\n",
              "      <td>2018-11-04</td>\n",
              "      <td>1.00</td>\n",
              "      <td>1</td>\n",
              "      <td>32</td>\n",
              "    </tr>\n",
              "    <tr>\n",
              "      <th>22463</th>\n",
              "      <td>29784461</td>\n",
              "      <td>House on the water HT10 - Heart of East Berlin</td>\n",
              "      <td>22437698</td>\n",
              "      <td>Sebastian</td>\n",
              "      <td>Treptow - Köpenick</td>\n",
              "      <td>Oberschöneweide</td>\n",
              "      <td>52.457982</td>\n",
              "      <td>13.526945</td>\n",
              "      <td>Entire home/apt</td>\n",
              "      <td>99</td>\n",
              "      <td>1</td>\n",
              "      <td>5</td>\n",
              "      <td>2018-11-06</td>\n",
              "      <td>5.00</td>\n",
              "      <td>2</td>\n",
              "      <td>339</td>\n",
              "    </tr>\n",
              "    <tr>\n",
              "      <th>22475</th>\n",
              "      <td>29792124</td>\n",
              "      <td>Welcome to Light Apartment</td>\n",
              "      <td>224133729</td>\n",
              "      <td>Inna</td>\n",
              "      <td>Friedrichshain-Kreuzberg</td>\n",
              "      <td>Frankfurter Allee Süd FK</td>\n",
              "      <td>52.507884</td>\n",
              "      <td>13.467071</td>\n",
              "      <td>Private room</td>\n",
              "      <td>25</td>\n",
              "      <td>1</td>\n",
              "      <td>1</td>\n",
              "      <td>2018-11-05</td>\n",
              "      <td>1.00</td>\n",
              "      <td>1</td>\n",
              "      <td>8</td>\n",
              "    </tr>\n",
              "    <tr>\n",
              "      <th>22508</th>\n",
              "      <td>29817383</td>\n",
              "      <td>Prenzlauerberg</td>\n",
              "      <td>224295751</td>\n",
              "      <td>Salem</td>\n",
              "      <td>Pankow</td>\n",
              "      <td>Prenzlauer Berg Nordwest</td>\n",
              "      <td>52.552250</td>\n",
              "      <td>13.410904</td>\n",
              "      <td>Entire home/apt</td>\n",
              "      <td>70</td>\n",
              "      <td>1</td>\n",
              "      <td>1</td>\n",
              "      <td>2018-11-07</td>\n",
              "      <td>1.00</td>\n",
              "      <td>1</td>\n",
              "      <td>350</td>\n",
              "    </tr>\n",
              "    <tr>\n",
              "      <th>22536</th>\n",
              "      <td>29849565</td>\n",
              "      <td>Super zentrales Apartment + Garten für 6 Personen</td>\n",
              "      <td>607481</td>\n",
              "      <td>Sven</td>\n",
              "      <td>Pankow</td>\n",
              "      <td>Prenzlauer Berg Südwest</td>\n",
              "      <td>52.536666</td>\n",
              "      <td>13.411360</td>\n",
              "      <td>Entire home/apt</td>\n",
              "      <td>150</td>\n",
              "      <td>10</td>\n",
              "      <td>2</td>\n",
              "      <td>2018-11-07</td>\n",
              "      <td>2.00</td>\n",
              "      <td>1</td>\n",
              "      <td>69</td>\n",
              "    </tr>\n",
              "  </tbody>\n",
              "</table>\n",
              "<p>18587 rows × 16 columns</p>\n",
              "</div>"
            ],
            "text/plain": [
              "             id  ... availability_365\n",
              "0          2015  ...              141\n",
              "1          2695  ...                0\n",
              "2          3176  ...              220\n",
              "3          3309  ...              297\n",
              "4          7071  ...               26\n",
              "...         ...  ...              ...\n",
              "22449  29772631  ...               32\n",
              "22463  29784461  ...              339\n",
              "22475  29792124  ...                8\n",
              "22508  29817383  ...              350\n",
              "22536  29849565  ...               69\n",
              "\n",
              "[18587 rows x 16 columns]"
            ]
          },
          "metadata": {
            "tags": []
          },
          "execution_count": 24
        }
      ]
    },
    {
      "cell_type": "markdown",
      "metadata": {
        "id": "KnEfuiGdYVS3"
      },
      "source": [
        "###DATA EXPLORATION"
      ]
    },
    {
      "cell_type": "markdown",
      "metadata": {
        "id": "DRGWv-QHY71n"
      },
      "source": [
        "*Untuk clustering saya menggunakan dua atribut yang saling berkaitan yaitu latitude dan longtitude sebagai koordinat "
      ]
    },
    {
      "cell_type": "code",
      "metadata": {
        "id": "o8yXVeugsAqa"
      },
      "source": [
        "#untuk clustering menggunakan latitude dan longtitude\n",
        "xy = np.array([dataset.latitude, dataset.longitude])"
      ],
      "execution_count": null,
      "outputs": []
    },
    {
      "cell_type": "markdown",
      "metadata": {
        "id": "NG3zBlhIaMJq"
      },
      "source": [
        "* Visualisasikan latitude dan longtitude"
      ]
    },
    {
      "cell_type": "code",
      "metadata": {
        "id": "fUNyGHhssAqc",
        "outputId": "7c70a698-3811-4fe5-fb3c-1acec0909f3d",
        "colab": {
          "base_uri": "https://localhost:8080/",
          "height": 265
        }
      },
      "source": [
        "#visualisasikan\n",
        "plt.scatter(xy[0], xy[1])\n",
        "plt.show()"
      ],
      "execution_count": null,
      "outputs": [
        {
          "output_type": "display_data",
          "data": {
            "image/png": "[encoded data removed]",
            "text/plain": [
              "<Figure size 432x288 with 1 Axes>"
            ]
          },
          "metadata": {
            "tags": [],
            "needs_background": "light"
          }
        }
      ]
    },
    {
      "cell_type": "code",
      "metadata": {
        "id": "D6GX3KwzsAqe"
      },
      "source": [
        "#menghitung jarak 2 titik\n",
        "def euclidean_distance(a, b):\n",
        "    return np.sqrt(np.sum((a-b)**2))"
      ],
      "execution_count": null,
      "outputs": []
    },
    {
      "cell_type": "markdown",
      "metadata": {
        "id": "jvT-Nz-YaqdC"
      },
      "source": [
        "* Buat fungsi untuk mencari centroids terdekat dengan titikk"
      ]
    },
    {
      "cell_type": "code",
      "metadata": {
        "id": "YdBO_oUEsAqg"
      },
      "source": [
        "#untuk mencari centroid terdekat dengan titik\n",
        "def find_best(a, centeroids):\n",
        "    distance = [euclidean_distance(a, c) for c in centeroids]\n",
        "    return np.argmax(distance)"
      ],
      "execution_count": null,
      "outputs": []
    },
    {
      "cell_type": "markdown",
      "metadata": {
        "id": "VxWHUA73axtP"
      },
      "source": [
        "* Fungsi untuk mengelompokan semua titik titik berdasarkan centroid yang paling dekat dengan titik tersebut"
      ]
    },
    {
      "cell_type": "code",
      "metadata": {
        "id": "jidf03jisAqj"
      },
      "source": [
        "#untuk mengelompokan semua titik berdasarkan centroid yg paling dekat sama titik tsb\n",
        "def get_cluster(xy, centeroids, k):\n",
        "    cluster = [[] for i in range(k)]\n",
        "    for p in xy:\n",
        "        idx = find_best(p, centeroids)\n",
        "        cluster[idx].append(p)\n",
        "    cluster = [np.array(c) for c in cluster]\n",
        "    return cluster"
      ],
      "execution_count": null,
      "outputs": []
    },
    {
      "cell_type": "markdown",
      "metadata": {
        "id": "q9mdVQOma-Sa"
      },
      "source": [
        "* Fungsi untuk membuat centroid secara acak sebanyak k"
      ]
    },
    {
      "cell_type": "code",
      "metadata": {
        "id": "gC-tSOZSsAql"
      },
      "source": [
        "#membuat centroid sebanyak k secara acak\n",
        "def create_centeroids(xy, k):\n",
        "    x = np.random.uniform(xy.T[0].min(), xy.T[0].max(), k)\n",
        "    y = np.random.uniform(xy.T[1].min(), xy.T[1].max(), k)\n",
        "    return np.array([x, y]).T"
      ],
      "execution_count": null,
      "outputs": []
    },
    {
      "cell_type": "markdown",
      "metadata": {
        "id": "bfeT814ibFGU"
      },
      "source": [
        "* Buat fungsi K-Means untuk mengupdate posisi centroid ketika titik titik tsb sudah dikelompokan"
      ]
    },
    {
      "cell_type": "code",
      "metadata": {
        "id": "EdbYBl9LsAqn"
      },
      "source": [
        "#fungsi kmeans, untuk update centroid\n",
        "def kmeans(xy, centeroids, k, epsilon):\n",
        "    while True:\n",
        "        cluster = get_cluster(xy, centeroids, k)\n",
        "        mean = np.copy(centeroids)\n",
        "        for i in range(len(cluster)):\n",
        "            if cluster[i].shape[0] > 0:\n",
        "                mean = cluster[i].mean(0)\n",
        "        if np.all(np.abs(centeroids - mean) <= epsilon):\n",
        "            break\n",
        "        else:\n",
        "            centeroids = mean\n",
        "    return centeroids"
      ],
      "execution_count": null,
      "outputs": []
    },
    {
      "cell_type": "markdown",
      "metadata": {
        "id": "8rnfHH7mbWqH"
      },
      "source": [
        "* Visualisasikan hasil clustering"
      ]
    },
    {
      "cell_type": "code",
      "metadata": {
        "id": "soqkTJfnsAqp"
      },
      "source": [
        "#fungsi untuk visualisasikan hasil clustering\n",
        "def visualize(xy, centeroids, k):\n",
        "    cluster = get_cluster(xy, centeroids, k) \n",
        "    for c in cluster:\n",
        "        if c.shape[0] > 0:\n",
        "            plt.scatter(c.T[0], c.T[1])\n",
        "    plt.show()"
      ],
      "execution_count": null,
      "outputs": []
    },
    {
      "cell_type": "markdown",
      "metadata": {
        "id": "c2cmA7YehFQJ"
      },
      "source": [
        "##EKSPERIMEN 1"
      ]
    },
    {
      "cell_type": "markdown",
      "metadata": {
        "id": "XVSh9_K0bqN_"
      },
      "source": [
        "* Buat centroids secara acak"
      ]
    },
    {
      "cell_type": "code",
      "metadata": {
        "id": "EeXWQjl3sAqr"
      },
      "source": [
        "#bikin centroid secara acak\n",
        "k = 3\n",
        "centeroids = create_centeroids(xy.T, k)"
      ],
      "execution_count": null,
      "outputs": []
    },
    {
      "cell_type": "markdown",
      "metadata": {
        "id": "V1jAPtwxbuO-"
      },
      "source": [
        "* Visualisasikan centroids"
      ]
    },
    {
      "cell_type": "code",
      "metadata": {
        "id": "aDPGfaMRsAqu",
        "outputId": "a7a508b1-d008-475d-ec75-10a618f4c61f",
        "colab": {
          "base_uri": "https://localhost:8080/",
          "height": 265
        }
      },
      "source": [
        "#visualisasikan\n",
        "visualize(xy.T, centeroids, k)"
      ],
      "execution_count": null,
      "outputs": [
        {
          "output_type": "display_data",
          "data": {
            "image/png": "[encoded data removed]",
            "text/plain": [
              "<Figure size 432x288 with 1 Axes>"
            ]
          },
          "metadata": {
            "tags": [],
            "needs_background": "light"
          }
        }
      ]
    },
    {
      "cell_type": "markdown",
      "metadata": {
        "id": "9aC9ZvL4b19g"
      },
      "source": [
        ""
      ]
    },
    {
      "cell_type": "markdown",
      "metadata": {
        "id": "DNcbmyaYdCj6"
      },
      "source": [
        "* Update posisi centroid yang sudah diubah dengan epsilon 0,1 yang menandakan jika selisihnya 0,1 atauu kurang maka akan stop"
      ]
    },
    {
      "cell_type": "code",
      "metadata": {
        "id": "LK62JwL7sAqw"
      },
      "source": [
        "#update posisi centroid  dengan epsilon 0.1\n",
        "centeroids = kmeans(xy.T, centeroids, k, 0.1)"
      ],
      "execution_count": null,
      "outputs": []
    },
    {
      "cell_type": "markdown",
      "metadata": {
        "id": "hby9HfzIcA4W"
      },
      "source": [
        "* Visualisasikan"
      ]
    },
    {
      "cell_type": "code",
      "metadata": {
        "id": "EPqmpBMssAqx",
        "outputId": "a045ce0d-3235-427b-bb9b-672a831d14ef",
        "colab": {
          "base_uri": "https://localhost:8080/",
          "height": 265
        }
      },
      "source": [
        "#visualisasikan\n",
        "visualize(xy.T, centeroids, k)"
      ],
      "execution_count": null,
      "outputs": [
        {
          "output_type": "display_data",
          "data": {
            "image/png": "[encoded data removed]",
            "text/plain": [
              "<Figure size 432x288 with 1 Axes>"
            ]
          },
          "metadata": {
            "tags": [],
            "needs_background": "light"
          }
        }
      ]
    },
    {
      "cell_type": "markdown",
      "metadata": {
        "id": "5rxTBVONhLLV"
      },
      "source": [
        "##EKSPERIMEN 2"
      ]
    },
    {
      "cell_type": "markdown",
      "metadata": {
        "id": "zbjEmsmVdVNH"
      },
      "source": [
        "* Buat centroids secara acak"
      ]
    },
    {
      "cell_type": "code",
      "metadata": {
        "id": "KwWctYQJsAq1",
        "outputId": "27c5e506-1a0d-4c0b-9d49-971f0f295a55",
        "colab": {
          "base_uri": "https://localhost:8080/",
          "height": 265
        }
      },
      "source": [
        "#buat centroid secara acak\n",
        "centeroids = create_centeroids(xy.T, k)\n",
        "visualize(xy.T, centeroids, k)"
      ],
      "execution_count": null,
      "outputs": [
        {
          "output_type": "display_data",
          "data": {
            "image/png": "[encoded data removed]",
            "text/plain": [
              "<Figure size 432x288 with 1 Axes>"
            ]
          },
          "metadata": {
            "tags": [],
            "needs_background": "light"
          }
        }
      ]
    },
    {
      "cell_type": "markdown",
      "metadata": {
        "id": "wx0zz9cIdJzV"
      },
      "source": [
        "* Update posisi centroid yang sudah diubah dengan epsilon 0,2 yang menandakan jika selisihnya 0,2 atauu kurang maka akan stop"
      ]
    },
    {
      "cell_type": "code",
      "metadata": {
        "id": "0bQsx6I1sAq3"
      },
      "source": [
        "#update posisi centroid  dengan epsilon 0.2\n",
        "centeroids = kmeans(xy.T, centeroids, k, 0.02)"
      ],
      "execution_count": null,
      "outputs": []
    },
    {
      "cell_type": "markdown",
      "metadata": {
        "id": "NnafgMnldNxZ"
      },
      "source": [
        "* Visualisasikan"
      ]
    },
    {
      "cell_type": "code",
      "metadata": {
        "id": "GtHNiHVrsAq5",
        "outputId": "eef8f28f-1b4b-4d16-ba26-42f2c5ff312b",
        "colab": {
          "base_uri": "https://localhost:8080/",
          "height": 265
        }
      },
      "source": [
        "#visualisasikan\n",
        "visualize(xy.T, centeroids, k)"
      ],
      "execution_count": null,
      "outputs": [
        {
          "output_type": "display_data",
          "data": {
            "image/png": "[encoded data removed]",
            "text/plain": [
              "<Figure size 432x288 with 1 Axes>"
            ]
          },
          "metadata": {
            "tags": [],
            "needs_background": "light"
          }
        }
      ]
    },
    {
      "cell_type": "markdown",
      "metadata": {
        "id": "rkzeiQo-eP4A"
      },
      "source": [
        "###KESIMPULAN\n",
        "\n",
        "Dari 2 eksprimen yang telah dilakukan, dapat diambil kesimpulan bahwa epsilon  yang berbeda, menghasilkan hasil yang sangat berbeda, dengan bentuk cluster,letak centroid, jumlah cluster yang berbeda-beda."
      ]
    }
  ]
}