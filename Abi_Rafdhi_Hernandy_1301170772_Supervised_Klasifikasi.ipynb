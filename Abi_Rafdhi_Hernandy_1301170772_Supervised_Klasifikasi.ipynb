{
  "nbformat": 4,
  "nbformat_minor": 0,
  "metadata": {
    "kernelspec": {
      "display_name": "Python 3",
      "language": "python",
      "name": "python3"
    },
    "language_info": {
      "codemirror_mode": {
        "name": "ipython",
        "version": 3
      },
      "file_extension": ".py",
      "mimetype": "text/x-python",
      "name": "python",
      "nbconvert_exporter": "python",
      "pygments_lexer": "ipython3",
      "version": "3.7.4"
    },
    "colab": {
      "name": "Abi Rafdhi Hernandy_1301170772_Supervised_Klasifikasi.ipynb",
      "provenance": [],
      "collapsed_sections": [],
      "toc_visible": true
    }
  },
  "cells": [
    {
      "cell_type": "markdown",
      "metadata": {
        "id": "JegMZhShzABe"
      },
      "source": [
        "###IMPORT PACKAGES"
      ]
    },
    {
      "cell_type": "code",
      "metadata": {
        "id": "qP6PxhsLquoy"
      },
      "source": [
        "import pandas as pd\n",
        "import numpy as np\n",
        "from sklearn.naive_bayes import GaussianNB\n",
        "from sklearn.ensemble import RandomForestClassifier\n",
        "from sklearn import tree"
      ],
      "execution_count": null,
      "outputs": []
    },
    {
      "cell_type": "markdown",
      "metadata": {
        "id": "ZxlswJ13wSXV"
      },
      "source": [
        ""
      ]
    },
    {
      "cell_type": "markdown",
      "metadata": {
        "id": "mz6OizQUwWU1"
      },
      "source": [
        "###IMPORT DATA"
      ]
    },
    {
      "cell_type": "markdown",
      "metadata": {
        "id": "4ovTKU74wiUX"
      },
      "source": [
        "* Read Dataset"
      ]
    },
    {
      "cell_type": "code",
      "metadata": {
        "id": "Yh-63emmquo-"
      },
      "source": [
        "#baca/buka file .csv\n",
        "data = pd.read_csv(\"air_bnb.csv\")"
      ],
      "execution_count": null,
      "outputs": []
    },
    {
      "cell_type": "markdown",
      "metadata": {
        "id": "RLLjaIcXwyOh"
      },
      "source": [
        "###DATA CLEANSING"
      ]
    },
    {
      "cell_type": "markdown",
      "metadata": {
        "id": "Rea6Zmlpw4at"
      },
      "source": [
        "* Hapus Data Yang Null/NaN lalu Tampilkan"
      ]
    },
    {
      "cell_type": "code",
      "metadata": {
        "id": "aoAbQqdnqupJ",
        "outputId": "f989d145-1863-4afe-f0b3-1b101824fa4e",
        "colab": {
          "base_uri": "https://localhost:8080/",
          "height": 808
        }
      },
      "source": [
        "#lihat isi dataset\n",
        "#hapus data yg NaN\n",
        "data = data.dropna()\n",
        "data"
      ],
      "execution_count": null,
      "outputs": [
        {
          "output_type": "execute_result",
          "data": {
            "text/html": [
              "<div>\n",
              "<style scoped>\n",
              "    .dataframe tbody tr th:only-of-type {\n",
              "        vertical-align: middle;\n",
              "    }\n",
              "\n",
              "    .dataframe tbody tr th {\n",
              "        vertical-align: top;\n",
              "    }\n",
              "\n",
              "    .dataframe thead th {\n",
              "        text-align: right;\n",
              "    }\n",
              "</style>\n",
              "<table border=\"1\" class=\"dataframe\">\n",
              "  <thead>\n",
              "    <tr style=\"text-align: right;\">\n",
              "      <th></th>\n",
              "      <th>id</th>\n",
              "      <th>name</th>\n",
              "      <th>host_id</th>\n",
              "      <th>host_name</th>\n",
              "      <th>neighbourhood_group</th>\n",
              "      <th>neighbourhood</th>\n",
              "      <th>latitude</th>\n",
              "      <th>longitude</th>\n",
              "      <th>room_type</th>\n",
              "      <th>price</th>\n",
              "      <th>minimum_nights</th>\n",
              "      <th>number_of_reviews</th>\n",
              "      <th>last_review</th>\n",
              "      <th>reviews_per_month</th>\n",
              "      <th>calculated_host_listings_count</th>\n",
              "      <th>availability_365</th>\n",
              "    </tr>\n",
              "  </thead>\n",
              "  <tbody>\n",
              "    <tr>\n",
              "      <th>0</th>\n",
              "      <td>2015</td>\n",
              "      <td>Berlin-Mitte Value! Quiet courtyard/very central</td>\n",
              "      <td>2217</td>\n",
              "      <td>Ian</td>\n",
              "      <td>Mitte</td>\n",
              "      <td>Brunnenstr. Süd</td>\n",
              "      <td>52.534537</td>\n",
              "      <td>13.402557</td>\n",
              "      <td>Entire home/apt</td>\n",
              "      <td>60</td>\n",
              "      <td>4</td>\n",
              "      <td>118</td>\n",
              "      <td>2018-10-28</td>\n",
              "      <td>3.76</td>\n",
              "      <td>4</td>\n",
              "      <td>141</td>\n",
              "    </tr>\n",
              "    <tr>\n",
              "      <th>1</th>\n",
              "      <td>2695</td>\n",
              "      <td>Prenzlauer Berg close to Mauerpark</td>\n",
              "      <td>2986</td>\n",
              "      <td>Michael</td>\n",
              "      <td>Pankow</td>\n",
              "      <td>Prenzlauer Berg Nordwest</td>\n",
              "      <td>52.548513</td>\n",
              "      <td>13.404553</td>\n",
              "      <td>Private room</td>\n",
              "      <td>17</td>\n",
              "      <td>2</td>\n",
              "      <td>6</td>\n",
              "      <td>2018-10-01</td>\n",
              "      <td>1.42</td>\n",
              "      <td>1</td>\n",
              "      <td>0</td>\n",
              "    </tr>\n",
              "    <tr>\n",
              "      <th>2</th>\n",
              "      <td>3176</td>\n",
              "      <td>Fabulous Flat in great Location</td>\n",
              "      <td>3718</td>\n",
              "      <td>Britta</td>\n",
              "      <td>Pankow</td>\n",
              "      <td>Prenzlauer Berg Südwest</td>\n",
              "      <td>52.534996</td>\n",
              "      <td>13.417579</td>\n",
              "      <td>Entire home/apt</td>\n",
              "      <td>90</td>\n",
              "      <td>62</td>\n",
              "      <td>143</td>\n",
              "      <td>2017-03-20</td>\n",
              "      <td>1.25</td>\n",
              "      <td>1</td>\n",
              "      <td>220</td>\n",
              "    </tr>\n",
              "    <tr>\n",
              "      <th>3</th>\n",
              "      <td>3309</td>\n",
              "      <td>BerlinSpot Schöneberg near KaDeWe</td>\n",
              "      <td>4108</td>\n",
              "      <td>Jana</td>\n",
              "      <td>Tempelhof - Schöneberg</td>\n",
              "      <td>Schöneberg-Nord</td>\n",
              "      <td>52.498855</td>\n",
              "      <td>13.349065</td>\n",
              "      <td>Private room</td>\n",
              "      <td>26</td>\n",
              "      <td>5</td>\n",
              "      <td>25</td>\n",
              "      <td>2018-08-16</td>\n",
              "      <td>0.39</td>\n",
              "      <td>1</td>\n",
              "      <td>297</td>\n",
              "    </tr>\n",
              "    <tr>\n",
              "      <th>4</th>\n",
              "      <td>7071</td>\n",
              "      <td>BrightRoom with sunny greenview!</td>\n",
              "      <td>17391</td>\n",
              "      <td>Bright</td>\n",
              "      <td>Pankow</td>\n",
              "      <td>Helmholtzplatz</td>\n",
              "      <td>52.543157</td>\n",
              "      <td>13.415091</td>\n",
              "      <td>Private room</td>\n",
              "      <td>42</td>\n",
              "      <td>2</td>\n",
              "      <td>197</td>\n",
              "      <td>2018-11-04</td>\n",
              "      <td>1.75</td>\n",
              "      <td>1</td>\n",
              "      <td>26</td>\n",
              "    </tr>\n",
              "    <tr>\n",
              "      <th>...</th>\n",
              "      <td>...</td>\n",
              "      <td>...</td>\n",
              "      <td>...</td>\n",
              "      <td>...</td>\n",
              "      <td>...</td>\n",
              "      <td>...</td>\n",
              "      <td>...</td>\n",
              "      <td>...</td>\n",
              "      <td>...</td>\n",
              "      <td>...</td>\n",
              "      <td>...</td>\n",
              "      <td>...</td>\n",
              "      <td>...</td>\n",
              "      <td>...</td>\n",
              "      <td>...</td>\n",
              "      <td>...</td>\n",
              "    </tr>\n",
              "    <tr>\n",
              "      <th>22449</th>\n",
              "      <td>29772631</td>\n",
              "      <td>Cosy and lovely room near Ostkreuz</td>\n",
              "      <td>20727291</td>\n",
              "      <td>Anna</td>\n",
              "      <td>Lichtenberg</td>\n",
              "      <td>Neu Lichtenberg</td>\n",
              "      <td>52.502952</td>\n",
              "      <td>13.490870</td>\n",
              "      <td>Private room</td>\n",
              "      <td>25</td>\n",
              "      <td>2</td>\n",
              "      <td>1</td>\n",
              "      <td>2018-11-04</td>\n",
              "      <td>1.00</td>\n",
              "      <td>1</td>\n",
              "      <td>32</td>\n",
              "    </tr>\n",
              "    <tr>\n",
              "      <th>22463</th>\n",
              "      <td>29784461</td>\n",
              "      <td>House on the water HT10 - Heart of East Berlin</td>\n",
              "      <td>22437698</td>\n",
              "      <td>Sebastian</td>\n",
              "      <td>Treptow - Köpenick</td>\n",
              "      <td>Oberschöneweide</td>\n",
              "      <td>52.457982</td>\n",
              "      <td>13.526945</td>\n",
              "      <td>Entire home/apt</td>\n",
              "      <td>99</td>\n",
              "      <td>1</td>\n",
              "      <td>5</td>\n",
              "      <td>2018-11-06</td>\n",
              "      <td>5.00</td>\n",
              "      <td>2</td>\n",
              "      <td>339</td>\n",
              "    </tr>\n",
              "    <tr>\n",
              "      <th>22475</th>\n",
              "      <td>29792124</td>\n",
              "      <td>Welcome to Light Apartment</td>\n",
              "      <td>224133729</td>\n",
              "      <td>Inna</td>\n",
              "      <td>Friedrichshain-Kreuzberg</td>\n",
              "      <td>Frankfurter Allee Süd FK</td>\n",
              "      <td>52.507884</td>\n",
              "      <td>13.467071</td>\n",
              "      <td>Private room</td>\n",
              "      <td>25</td>\n",
              "      <td>1</td>\n",
              "      <td>1</td>\n",
              "      <td>2018-11-05</td>\n",
              "      <td>1.00</td>\n",
              "      <td>1</td>\n",
              "      <td>8</td>\n",
              "    </tr>\n",
              "    <tr>\n",
              "      <th>22508</th>\n",
              "      <td>29817383</td>\n",
              "      <td>Prenzlauerberg</td>\n",
              "      <td>224295751</td>\n",
              "      <td>Salem</td>\n",
              "      <td>Pankow</td>\n",
              "      <td>Prenzlauer Berg Nordwest</td>\n",
              "      <td>52.552250</td>\n",
              "      <td>13.410904</td>\n",
              "      <td>Entire home/apt</td>\n",
              "      <td>70</td>\n",
              "      <td>1</td>\n",
              "      <td>1</td>\n",
              "      <td>2018-11-07</td>\n",
              "      <td>1.00</td>\n",
              "      <td>1</td>\n",
              "      <td>350</td>\n",
              "    </tr>\n",
              "    <tr>\n",
              "      <th>22536</th>\n",
              "      <td>29849565</td>\n",
              "      <td>Super zentrales Apartment + Garten für 6 Personen</td>\n",
              "      <td>607481</td>\n",
              "      <td>Sven</td>\n",
              "      <td>Pankow</td>\n",
              "      <td>Prenzlauer Berg Südwest</td>\n",
              "      <td>52.536666</td>\n",
              "      <td>13.411360</td>\n",
              "      <td>Entire home/apt</td>\n",
              "      <td>150</td>\n",
              "      <td>10</td>\n",
              "      <td>2</td>\n",
              "      <td>2018-11-07</td>\n",
              "      <td>2.00</td>\n",
              "      <td>1</td>\n",
              "      <td>69</td>\n",
              "    </tr>\n",
              "  </tbody>\n",
              "</table>\n",
              "<p>18587 rows × 16 columns</p>\n",
              "</div>"
            ],
            "text/plain": [
              "             id  ... availability_365\n",
              "0          2015  ...              141\n",
              "1          2695  ...                0\n",
              "2          3176  ...              220\n",
              "3          3309  ...              297\n",
              "4          7071  ...               26\n",
              "...         ...  ...              ...\n",
              "22449  29772631  ...               32\n",
              "22463  29784461  ...              339\n",
              "22475  29792124  ...                8\n",
              "22508  29817383  ...              350\n",
              "22536  29849565  ...               69\n",
              "\n",
              "[18587 rows x 16 columns]"
            ]
          },
          "metadata": {
            "tags": []
          },
          "execution_count": 21
        }
      ]
    },
    {
      "cell_type": "markdown",
      "metadata": {
        "id": "eiLgUo0Yxubr"
      },
      "source": [
        "#EKSPERIMEN 1"
      ]
    },
    {
      "cell_type": "markdown",
      "metadata": {
        "id": "Hb-LQ_0byd8q"
      },
      "source": [
        "###DATA EXPLORATION"
      ]
    },
    {
      "cell_type": "markdown",
      "metadata": {
        "id": "DyIz9pJmxySM"
      },
      "source": [
        "* Encode value room type dari string menjadi integer"
      ]
    },
    {
      "cell_type": "code",
      "metadata": {
        "id": "KwxsrP0wqupX"
      },
      "source": [
        "# fungsi untuk mengubah room_type menjadi angka\n",
        "def to_numerical(data):\n",
        "    kamus = {k: i for i, k in enumerate(data.unique())}\n",
        "    return [kamus[d] for d in data]"
      ],
      "execution_count": null,
      "outputs": []
    },
    {
      "cell_type": "markdown",
      "metadata": {
        "id": "YGXEcMWPx91d"
      },
      "source": [
        "* Ambil fitur atau beberapa kolom yang diperlukan"
      ]
    },
    {
      "cell_type": "code",
      "metadata": {
        "id": "sBEv2V1Rqupe"
      },
      "source": [
        "# klasifikasi room_type\n",
        "# ambil fitur yang diperlukan\n",
        "df = pd.DataFrame({\n",
        "    \"price\": data.price,\n",
        "    \"minimum_nights\": data.minimum_nights,\n",
        "    \"number_of_reviews\": data.number_of_reviews,\n",
        "    \"calculated_host_listings_count\": data.calculated_host_listings_count,\n",
        "    \"availability_365\": data.availability_365,\n",
        "    \"latitude\": data.latitude,\n",
        "    \"longitude\": data.longitude,\n",
        "    \"room_type\": to_numerical(data.room_type)\n",
        "})"
      ],
      "execution_count": null,
      "outputs": []
    },
    {
      "cell_type": "markdown",
      "metadata": {
        "id": "ESXDosNmyOa5"
      },
      "source": [
        "* Tampilkan kolom yang dipilih"
      ]
    },
    {
      "cell_type": "code",
      "metadata": {
        "id": "nJbVt826qupk",
        "outputId": "469ece79-0ed3-4830-84a1-7b943828836c",
        "colab": {
          "base_uri": "https://localhost:8080/",
          "height": 399
        }
      },
      "source": [
        "df"
      ],
      "execution_count": null,
      "outputs": [
        {
          "output_type": "execute_result",
          "data": {
            "text/html": [
              "<div>\n",
              "<style scoped>\n",
              "    .dataframe tbody tr th:only-of-type {\n",
              "        vertical-align: middle;\n",
              "    }\n",
              "\n",
              "    .dataframe tbody tr th {\n",
              "        vertical-align: top;\n",
              "    }\n",
              "\n",
              "    .dataframe thead th {\n",
              "        text-align: right;\n",
              "    }\n",
              "</style>\n",
              "<table border=\"1\" class=\"dataframe\">\n",
              "  <thead>\n",
              "    <tr style=\"text-align: right;\">\n",
              "      <th></th>\n",
              "      <th>price</th>\n",
              "      <th>minimum_nights</th>\n",
              "      <th>number_of_reviews</th>\n",
              "      <th>calculated_host_listings_count</th>\n",
              "      <th>availability_365</th>\n",
              "      <th>latitude</th>\n",
              "      <th>longitude</th>\n",
              "      <th>room_type</th>\n",
              "    </tr>\n",
              "  </thead>\n",
              "  <tbody>\n",
              "    <tr>\n",
              "      <th>0</th>\n",
              "      <td>60</td>\n",
              "      <td>4</td>\n",
              "      <td>118</td>\n",
              "      <td>4</td>\n",
              "      <td>141</td>\n",
              "      <td>52.534537</td>\n",
              "      <td>13.402557</td>\n",
              "      <td>0</td>\n",
              "    </tr>\n",
              "    <tr>\n",
              "      <th>1</th>\n",
              "      <td>17</td>\n",
              "      <td>2</td>\n",
              "      <td>6</td>\n",
              "      <td>1</td>\n",
              "      <td>0</td>\n",
              "      <td>52.548513</td>\n",
              "      <td>13.404553</td>\n",
              "      <td>1</td>\n",
              "    </tr>\n",
              "    <tr>\n",
              "      <th>2</th>\n",
              "      <td>90</td>\n",
              "      <td>62</td>\n",
              "      <td>143</td>\n",
              "      <td>1</td>\n",
              "      <td>220</td>\n",
              "      <td>52.534996</td>\n",
              "      <td>13.417579</td>\n",
              "      <td>0</td>\n",
              "    </tr>\n",
              "    <tr>\n",
              "      <th>3</th>\n",
              "      <td>26</td>\n",
              "      <td>5</td>\n",
              "      <td>25</td>\n",
              "      <td>1</td>\n",
              "      <td>297</td>\n",
              "      <td>52.498855</td>\n",
              "      <td>13.349065</td>\n",
              "      <td>1</td>\n",
              "    </tr>\n",
              "    <tr>\n",
              "      <th>4</th>\n",
              "      <td>42</td>\n",
              "      <td>2</td>\n",
              "      <td>197</td>\n",
              "      <td>1</td>\n",
              "      <td>26</td>\n",
              "      <td>52.543157</td>\n",
              "      <td>13.415091</td>\n",
              "      <td>1</td>\n",
              "    </tr>\n",
              "    <tr>\n",
              "      <th>...</th>\n",
              "      <td>...</td>\n",
              "      <td>...</td>\n",
              "      <td>...</td>\n",
              "      <td>...</td>\n",
              "      <td>...</td>\n",
              "      <td>...</td>\n",
              "      <td>...</td>\n",
              "      <td>...</td>\n",
              "    </tr>\n",
              "    <tr>\n",
              "      <th>22449</th>\n",
              "      <td>25</td>\n",
              "      <td>2</td>\n",
              "      <td>1</td>\n",
              "      <td>1</td>\n",
              "      <td>32</td>\n",
              "      <td>52.502952</td>\n",
              "      <td>13.490870</td>\n",
              "      <td>1</td>\n",
              "    </tr>\n",
              "    <tr>\n",
              "      <th>22463</th>\n",
              "      <td>99</td>\n",
              "      <td>1</td>\n",
              "      <td>5</td>\n",
              "      <td>2</td>\n",
              "      <td>339</td>\n",
              "      <td>52.457982</td>\n",
              "      <td>13.526945</td>\n",
              "      <td>0</td>\n",
              "    </tr>\n",
              "    <tr>\n",
              "      <th>22475</th>\n",
              "      <td>25</td>\n",
              "      <td>1</td>\n",
              "      <td>1</td>\n",
              "      <td>1</td>\n",
              "      <td>8</td>\n",
              "      <td>52.507884</td>\n",
              "      <td>13.467071</td>\n",
              "      <td>1</td>\n",
              "    </tr>\n",
              "    <tr>\n",
              "      <th>22508</th>\n",
              "      <td>70</td>\n",
              "      <td>1</td>\n",
              "      <td>1</td>\n",
              "      <td>1</td>\n",
              "      <td>350</td>\n",
              "      <td>52.552250</td>\n",
              "      <td>13.410904</td>\n",
              "      <td>0</td>\n",
              "    </tr>\n",
              "    <tr>\n",
              "      <th>22536</th>\n",
              "      <td>150</td>\n",
              "      <td>10</td>\n",
              "      <td>2</td>\n",
              "      <td>1</td>\n",
              "      <td>69</td>\n",
              "      <td>52.536666</td>\n",
              "      <td>13.411360</td>\n",
              "      <td>0</td>\n",
              "    </tr>\n",
              "  </tbody>\n",
              "</table>\n",
              "<p>18587 rows × 8 columns</p>\n",
              "</div>"
            ],
            "text/plain": [
              "       price  minimum_nights  ...  longitude  room_type\n",
              "0         60               4  ...  13.402557          0\n",
              "1         17               2  ...  13.404553          1\n",
              "2         90              62  ...  13.417579          0\n",
              "3         26               5  ...  13.349065          1\n",
              "4         42               2  ...  13.415091          1\n",
              "...      ...             ...  ...        ...        ...\n",
              "22449     25               2  ...  13.490870          1\n",
              "22463     99               1  ...  13.526945          0\n",
              "22475     25               1  ...  13.467071          1\n",
              "22508     70               1  ...  13.410904          0\n",
              "22536    150              10  ...  13.411360          0\n",
              "\n",
              "[18587 rows x 8 columns]"
            ]
          },
          "metadata": {
            "tags": []
          },
          "execution_count": 24
        }
      ]
    },
    {
      "cell_type": "markdown",
      "metadata": {
        "id": "Y-_7qlLuyU1-"
      },
      "source": [
        "###Classification"
      ]
    },
    {
      "cell_type": "markdown",
      "metadata": {
        "id": "tyzSxd7NzSn7"
      },
      "source": [
        "#####DATA SPLITTING"
      ]
    },
    {
      "cell_type": "markdown",
      "metadata": {
        "id": "njHQ9X74zbMI"
      },
      "source": [
        "* Memisahkan Antara Data Latih dan(X) dan Label(Y), dengan data latih atribut \"room_type\""
      ]
    },
    {
      "cell_type": "code",
      "metadata": {
        "id": "LvDCK7_2qupr"
      },
      "source": [
        "# pisahkan data latih dan label\n",
        "X = np.array(df.drop(\"room_type\", 1))\n",
        "Y = df.price.values"
      ],
      "execution_count": null,
      "outputs": []
    },
    {
      "cell_type": "markdown",
      "metadata": {
        "id": "NK-ajwbs0C7u"
      },
      "source": [
        "* Setelah dipisahkan menjadi data latih(X) dan data uji(Y), validasi data uji menjadi 1000"
      ]
    },
    {
      "cell_type": "code",
      "metadata": {
        "id": "s3URUv_-qupy"
      },
      "source": [
        "# pisahkan data menjadi data latih dan data uji (1000 data uji)\n",
        "X_test = X[:1000]\n",
        "Y_test = Y[:1000]\n",
        "X = X[1000:]\n",
        "Y = Y[1000:]"
      ],
      "execution_count": null,
      "outputs": []
    },
    {
      "cell_type": "markdown",
      "metadata": {
        "id": "kgW0auOe0QWy"
      },
      "source": [
        "* Untuk mencari error model, disini mmenggunakan MSE(Mean Square Error). metode ini mengevaluasi metode peramalan. Masing-masing kesalahan atau sisa dikuadratkan. Kemudian dijumlahkan dan ditambahkan dengan jumlah observasi. Pendekatan ini mengatur kesalahan peramalan yang besar karena kesalahan-kesalahan itu dikuadratkan."
      ]
    },
    {
      "cell_type": "code",
      "metadata": {
        "id": "s7Ik3ke_qup2"
      },
      "source": [
        "#evaluasi menggunakan mse untuk mencari error\n",
        "def mse(prediksi, target):\n",
        "    return np.square(np.subtract(prediksi, target)).mean()"
      ],
      "execution_count": null,
      "outputs": []
    },
    {
      "cell_type": "markdown",
      "metadata": {
        "id": "If0Z7urj1Q76"
      },
      "source": [
        "###NAIVE BAYES"
      ]
    },
    {
      "cell_type": "markdown",
      "metadata": {
        "id": "Tbf8zWNN1jFp"
      },
      "source": [
        "* Algoritma ini mengklasifikasikan data dengan cara memprediksi data yang tidak diketahui\n",
        "* lalu latih classifiernya terhadap data X agar menghasilkan output Y dengan gnb.fit(X, Y)"
      ]
    },
    {
      "cell_type": "code",
      "metadata": {
        "id": "kfN8S7zBqup5",
        "outputId": "766475af-2e52-424f-c4c1-167aa3c282b8",
        "colab": {
          "base_uri": "https://localhost:8080/",
          "height": 35
        }
      },
      "source": [
        "#buat model menggunakan algoritma navie bayes\n",
        "gnb = GaussianNB()\n",
        "gnb.fit(X, Y)"
      ],
      "execution_count": null,
      "outputs": [
        {
          "output_type": "execute_result",
          "data": {
            "text/plain": [
              "GaussianNB(priors=None, var_smoothing=1e-09)"
            ]
          },
          "metadata": {
            "tags": []
          },
          "execution_count": 28
        }
      ]
    },
    {
      "cell_type": "markdown",
      "metadata": {
        "id": "Bi33M-mB2Fg1"
      },
      "source": [
        "* Hitung Akurasi dengan  mencari hasil output data uji, lalu hasilnya dibandingkan dengan output sebenarnya yaitu label uji dan MSE "
      ]
    },
    {
      "cell_type": "code",
      "metadata": {
        "id": "Q5TZqySBqup8",
        "outputId": "f9345a71-c8b4-43ef-f2aa-59975f873f99",
        "colab": {
          "base_uri": "https://localhost:8080/",
          "height": 52
        }
      },
      "source": [
        "#hitung akurasi dan nilai error\n",
        "prediksi = gnb.predict(X_test)\n",
        "score = 0\n",
        "for p, t in zip(prediksi, Y_test):\n",
        "    if p == t:\n",
        "        score += 1\n",
        "print('Akurasi:', score/1000)\n",
        "print('Mean Square Error:', mse(prediksi, Y_test))"
      ],
      "execution_count": null,
      "outputs": [
        {
          "output_type": "stream",
          "text": [
            "Akurasi: 0.984\n",
            "Mean Square Error: 0.398\n"
          ],
          "name": "stdout"
        }
      ]
    },
    {
      "cell_type": "markdown",
      "metadata": {
        "id": "TvWzpdzJ2hUE"
      },
      "source": [
        "###RANDOM FOREST"
      ]
    },
    {
      "cell_type": "markdown",
      "metadata": {
        "id": "yVz8xVua24XV"
      },
      "source": [
        "* Random Forest dilakukan melalui penggabungan pohon (tree) dengan melakukan training pada sampel data yang dimiliki. Penentuan klasifikasi dengan random forest diambil berdasarkan hasil voting dari tree yang terbentuk.\n",
        "* lalu latih classifiernya terhadap data X agar menghasilkan output Y dengan clf.fit(X, Y)"
      ]
    },
    {
      "cell_type": "code",
      "metadata": {
        "id": "Dix2ut2aquqA",
        "outputId": "f9456fa6-1548-4080-eb28-9b7ede512bf1",
        "colab": {
          "base_uri": "https://localhost:8080/",
          "height": 159
        }
      },
      "source": [
        "#menggunakan algoritma random forest\n",
        "clf = RandomForestClassifier(n_estimators=10)\n",
        "clf.fit(X, Y)"
      ],
      "execution_count": null,
      "outputs": [
        {
          "output_type": "execute_result",
          "data": {
            "text/plain": [
              "RandomForestClassifier(bootstrap=True, ccp_alpha=0.0, class_weight=None,\n",
              "                       criterion='gini', max_depth=None, max_features='auto',\n",
              "                       max_leaf_nodes=None, max_samples=None,\n",
              "                       min_impurity_decrease=0.0, min_impurity_split=None,\n",
              "                       min_samples_leaf=1, min_samples_split=2,\n",
              "                       min_weight_fraction_leaf=0.0, n_estimators=10,\n",
              "                       n_jobs=None, oob_score=False, random_state=None,\n",
              "                       verbose=0, warm_start=False)"
            ]
          },
          "metadata": {
            "tags": []
          },
          "execution_count": 30
        }
      ]
    },
    {
      "cell_type": "markdown",
      "metadata": {
        "id": "yKs1Jq693QV4"
      },
      "source": [
        "* Hitung Akurasi dengan  mencari hasil output data uji, lalu hasilnya dibandingkan dengan output sebenarnya yaitu label uji dan MSE\n",
        "\n"
      ]
    },
    {
      "cell_type": "code",
      "metadata": {
        "id": "SkEvxEzqquqD",
        "outputId": "f0bfcc4c-561b-4774-bdcb-31e3bfa34961",
        "colab": {
          "base_uri": "https://localhost:8080/",
          "height": 52
        }
      },
      "source": [
        "#hitung akurasinya\n",
        "prediksi = clf.predict(X_test)\n",
        "score = 0\n",
        "for p, t in zip(prediksi, Y_test):\n",
        "    if p == t:\n",
        "        score += 1\n",
        "print('Akurasi:', score/1000)\n",
        "print('Mean Square Error:', mse(prediksi, Y_test))"
      ],
      "execution_count": null,
      "outputs": [
        {
          "output_type": "stream",
          "text": [
            "Akurasi: 0.553\n",
            "Mean Square Error: 1375.231\n"
          ],
          "name": "stdout"
        }
      ]
    },
    {
      "cell_type": "markdown",
      "metadata": {
        "id": "3pc0UprF3V5h"
      },
      "source": [
        "### DECISION TREE"
      ]
    },
    {
      "cell_type": "markdown",
      "metadata": {
        "id": "5IFIs8Dy302B"
      },
      "source": [
        "* Decision Tree dimulai dari root node hingga leaf node yang dilakukan secara rekursif. Di mana setiap percabangan menyatakan suatu kondisi yang harus dipenuhi dan pada setiap ujung pohon menyatakan kelas dari suatu data.\n",
        "*lalu latih classifiernya terhadap data X agar menghasilkan output Y dengan dtc.fit(X, Y)"
      ]
    },
    {
      "cell_type": "code",
      "metadata": {
        "id": "bruPlTI2quqL"
      },
      "source": [
        "dtc = tree.DecisionTreeClassifier()\n",
        "dtc = dtc.fit(X, Y)"
      ],
      "execution_count": null,
      "outputs": []
    },
    {
      "cell_type": "markdown",
      "metadata": {
        "id": "4w4rnb8i4Ege"
      },
      "source": [
        "* Hitung Akurasi dengan  mencari hasil output data uji, lalu hasilnya dibandingkan dengan output sebenarnya yaitu label uji dan MSE"
      ]
    },
    {
      "cell_type": "code",
      "metadata": {
        "id": "8N440LzLWHi0",
        "outputId": "4f3ead23-2899-41b8-8a11-912e075cbbf4",
        "colab": {
          "base_uri": "https://localhost:8080/",
          "height": 52
        }
      },
      "source": [
        "#hitung akurasinya\n",
        "prediksi = dtc.predict(X_test)\n",
        "score = 0\n",
        "for p, t in zip(prediksi, Y_test):\n",
        "    if p == t:\n",
        "        score += 1\n",
        "print('Akurasi:', score/1000)\n",
        "print('Mean Square Error:', mse(prediksi, Y_test))"
      ],
      "execution_count": null,
      "outputs": [
        {
          "output_type": "stream",
          "text": [
            "Akurasi: 0.986\n",
            "Mean Square Error: 3.168\n"
          ],
          "name": "stdout"
        }
      ]
    },
    {
      "cell_type": "markdown",
      "metadata": {
        "id": "f61byj284Lsq"
      },
      "source": [
        "#EKSPERIMEN 2"
      ]
    },
    {
      "cell_type": "markdown",
      "metadata": {
        "id": "J1dnQRAv4ZBQ"
      },
      "source": [
        "###DATA EXPLORATION"
      ]
    },
    {
      "cell_type": "markdown",
      "metadata": {
        "id": "UuB21r-X4pJq"
      },
      "source": [
        "* Encode value room type dari string menjadi integer"
      ]
    },
    {
      "cell_type": "code",
      "metadata": {
        "id": "_mmMABYQ4tdK"
      },
      "source": [
        "# fungsi untuk mengubah room_type menjadi angka\n",
        "def to_numerical(data):\n",
        "    kamus = {k: i for i, k in enumerate(data.unique())}\n",
        "    return [kamus[d] for d in data]"
      ],
      "execution_count": null,
      "outputs": []
    },
    {
      "cell_type": "markdown",
      "metadata": {
        "id": "tsaznd3542Qe"
      },
      "source": [
        "* Ambil fitur atau beberapa kolom yang diperlukan"
      ]
    },
    {
      "cell_type": "code",
      "metadata": {
        "id": "Yv3HmPK-42Qh"
      },
      "source": [
        "# klasifikasi room_type\n",
        "# ambil fitur yang diperlukan\n",
        "df = pd.DataFrame({\n",
        "    \"price\": data.price,\n",
        "    \"name\": to_numerical(data.room_type),\n",
        "    \"host_name\": to_numerical(data.host_name),\n",
        "    \"calculated_host_listings_count\": data.calculated_host_listings_count,\n",
        "    \"neighbourhood\": to_numerical(data.neighbourhood),\n",
        "    \"room_type\": to_numerical(data.room_type)\n",
        "})"
      ],
      "execution_count": null,
      "outputs": []
    },
    {
      "cell_type": "markdown",
      "metadata": {
        "id": "JjHS-wk542Qu"
      },
      "source": [
        "* Tampilkan kolom yang dipilih"
      ]
    },
    {
      "cell_type": "code",
      "metadata": {
        "outputId": "aefafafa-7d6e-4639-b6b5-fe8e51ab98cb",
        "id": "16gHspwm42Qv",
        "colab": {
          "base_uri": "https://localhost:8080/",
          "height": 399
        }
      },
      "source": [
        "df"
      ],
      "execution_count": null,
      "outputs": [
        {
          "output_type": "execute_result",
          "data": {
            "text/html": [
              "<div>\n",
              "<style scoped>\n",
              "    .dataframe tbody tr th:only-of-type {\n",
              "        vertical-align: middle;\n",
              "    }\n",
              "\n",
              "    .dataframe tbody tr th {\n",
              "        vertical-align: top;\n",
              "    }\n",
              "\n",
              "    .dataframe thead th {\n",
              "        text-align: right;\n",
              "    }\n",
              "</style>\n",
              "<table border=\"1\" class=\"dataframe\">\n",
              "  <thead>\n",
              "    <tr style=\"text-align: right;\">\n",
              "      <th></th>\n",
              "      <th>price</th>\n",
              "      <th>name</th>\n",
              "      <th>host_name</th>\n",
              "      <th>calculated_host_listings_count</th>\n",
              "      <th>neighbourhood</th>\n",
              "      <th>room_type</th>\n",
              "    </tr>\n",
              "  </thead>\n",
              "  <tbody>\n",
              "    <tr>\n",
              "      <th>0</th>\n",
              "      <td>60</td>\n",
              "      <td>0</td>\n",
              "      <td>0</td>\n",
              "      <td>4</td>\n",
              "      <td>0</td>\n",
              "      <td>0</td>\n",
              "    </tr>\n",
              "    <tr>\n",
              "      <th>1</th>\n",
              "      <td>17</td>\n",
              "      <td>1</td>\n",
              "      <td>1</td>\n",
              "      <td>1</td>\n",
              "      <td>1</td>\n",
              "      <td>1</td>\n",
              "    </tr>\n",
              "    <tr>\n",
              "      <th>2</th>\n",
              "      <td>90</td>\n",
              "      <td>0</td>\n",
              "      <td>2</td>\n",
              "      <td>1</td>\n",
              "      <td>2</td>\n",
              "      <td>0</td>\n",
              "    </tr>\n",
              "    <tr>\n",
              "      <th>3</th>\n",
              "      <td>26</td>\n",
              "      <td>1</td>\n",
              "      <td>3</td>\n",
              "      <td>1</td>\n",
              "      <td>3</td>\n",
              "      <td>1</td>\n",
              "    </tr>\n",
              "    <tr>\n",
              "      <th>4</th>\n",
              "      <td>42</td>\n",
              "      <td>1</td>\n",
              "      <td>4</td>\n",
              "      <td>1</td>\n",
              "      <td>4</td>\n",
              "      <td>1</td>\n",
              "    </tr>\n",
              "    <tr>\n",
              "      <th>...</th>\n",
              "      <td>...</td>\n",
              "      <td>...</td>\n",
              "      <td>...</td>\n",
              "      <td>...</td>\n",
              "      <td>...</td>\n",
              "      <td>...</td>\n",
              "    </tr>\n",
              "    <tr>\n",
              "      <th>22449</th>\n",
              "      <td>25</td>\n",
              "      <td>1</td>\n",
              "      <td>139</td>\n",
              "      <td>1</td>\n",
              "      <td>50</td>\n",
              "      <td>1</td>\n",
              "    </tr>\n",
              "    <tr>\n",
              "      <th>22463</th>\n",
              "      <td>99</td>\n",
              "      <td>0</td>\n",
              "      <td>31</td>\n",
              "      <td>2</td>\n",
              "      <td>116</td>\n",
              "      <td>0</td>\n",
              "    </tr>\n",
              "    <tr>\n",
              "      <th>22475</th>\n",
              "      <td>25</td>\n",
              "      <td>1</td>\n",
              "      <td>3725</td>\n",
              "      <td>1</td>\n",
              "      <td>10</td>\n",
              "      <td>1</td>\n",
              "    </tr>\n",
              "    <tr>\n",
              "      <th>22508</th>\n",
              "      <td>70</td>\n",
              "      <td>0</td>\n",
              "      <td>5237</td>\n",
              "      <td>1</td>\n",
              "      <td>1</td>\n",
              "      <td>0</td>\n",
              "    </tr>\n",
              "    <tr>\n",
              "      <th>22536</th>\n",
              "      <td>150</td>\n",
              "      <td>0</td>\n",
              "      <td>87</td>\n",
              "      <td>1</td>\n",
              "      <td>2</td>\n",
              "      <td>0</td>\n",
              "    </tr>\n",
              "  </tbody>\n",
              "</table>\n",
              "<p>18587 rows × 6 columns</p>\n",
              "</div>"
            ],
            "text/plain": [
              "       price  name  ...  neighbourhood  room_type\n",
              "0         60     0  ...              0          0\n",
              "1         17     1  ...              1          1\n",
              "2         90     0  ...              2          0\n",
              "3         26     1  ...              3          1\n",
              "4         42     1  ...              4          1\n",
              "...      ...   ...  ...            ...        ...\n",
              "22449     25     1  ...             50          1\n",
              "22463     99     0  ...            116          0\n",
              "22475     25     1  ...             10          1\n",
              "22508     70     0  ...              1          0\n",
              "22536    150     0  ...              2          0\n",
              "\n",
              "[18587 rows x 6 columns]"
            ]
          },
          "metadata": {
            "tags": []
          },
          "execution_count": 36
        }
      ]
    },
    {
      "cell_type": "markdown",
      "metadata": {
        "id": "NJUhzfW-42Q6"
      },
      "source": [
        "###Classification"
      ]
    },
    {
      "cell_type": "markdown",
      "metadata": {
        "id": "14heMgf342Q8"
      },
      "source": [
        "#####DATA SPLITTING"
      ]
    },
    {
      "cell_type": "markdown",
      "metadata": {
        "id": "YGWKNzp742Q9"
      },
      "source": [
        "* Memisahkan Antara Data Latih dan(X) dan Label(Y), dengan data latih atribut \"name\""
      ]
    },
    {
      "cell_type": "code",
      "metadata": {
        "id": "E0bZhmh942Q-"
      },
      "source": [
        "# pisahkan data latih dan label\n",
        "X = np.array(df.drop(\"name\", 1))\n",
        "Y = df.price.values"
      ],
      "execution_count": null,
      "outputs": []
    },
    {
      "cell_type": "markdown",
      "metadata": {
        "id": "Bo-YZOVy42RD"
      },
      "source": [
        "* Setelah dipisahkan menjadi data latih(X) dan data uji(Y), validasi data uji menjadi 1000"
      ]
    },
    {
      "cell_type": "code",
      "metadata": {
        "id": "zwiYVq4C42RE"
      },
      "source": [
        "# pisahkan data menjadi data latih dan data uji (1000 data uji)\n",
        "X_test = X[:1000]\n",
        "Y_test = Y[:1000]\n",
        "X = X[1000:]\n",
        "Y = Y[1000:]"
      ],
      "execution_count": null,
      "outputs": []
    },
    {
      "cell_type": "markdown",
      "metadata": {
        "id": "Y-jNGySO42RI"
      },
      "source": [
        "* Untuk mencari error model, disini mmenggunakan MSE(Mean Square Error). metode ini mengevaluasi metode peramalan. Masing-masing kesalahan atau sisa dikuadratkan. Kemudian dijumlahkan dan ditambahkan dengan jumlah observasi. Pendekatan ini mengatur kesalahan peramalan yang besar karena kesalahan-kesalahan itu dikuadratkan."
      ]
    },
    {
      "cell_type": "code",
      "metadata": {
        "id": "LCPlTG5T42RL"
      },
      "source": [
        "#evaluasi menggunakan mse untuk mencari error\n",
        "def mse(prediksi, target):\n",
        "    return np.square(np.subtract(prediksi, target)).mean()"
      ],
      "execution_count": null,
      "outputs": []
    },
    {
      "cell_type": "markdown",
      "metadata": {
        "id": "PqwZ7lEj42RP"
      },
      "source": [
        "###NAIVE BAYES"
      ]
    },
    {
      "cell_type": "markdown",
      "metadata": {
        "id": "hpRbGHss42RQ"
      },
      "source": [
        "* Algoritma ini mengklasifikasikan data dengan cara memprediksi data yang tidak diketahui\n",
        "* lalu latih classifiernya terhadap data X agar menghasilkan output Y dengan gnb.fit(X, Y)"
      ]
    },
    {
      "cell_type": "code",
      "metadata": {
        "outputId": "076964c4-3831-479f-af34-70e4ba898463",
        "id": "EbVylqRg42RR",
        "colab": {
          "base_uri": "https://localhost:8080/",
          "height": 35
        }
      },
      "source": [
        "#buat model menggunakan algoritma navie bayes\n",
        "gnb = GaussianNB()\n",
        "gnb.fit(X, Y)"
      ],
      "execution_count": null,
      "outputs": [
        {
          "output_type": "execute_result",
          "data": {
            "text/plain": [
              "GaussianNB(priors=None, var_smoothing=1e-09)"
            ]
          },
          "metadata": {
            "tags": []
          },
          "execution_count": 40
        }
      ]
    },
    {
      "cell_type": "markdown",
      "metadata": {
        "id": "hjmX6L9p42RV"
      },
      "source": [
        "* Hitung Akurasi dengan  mencari hasil output data uji, lalu hasilnya dibandingkan dengan output sebenarnya yaitu label uji dan MSE "
      ]
    },
    {
      "cell_type": "code",
      "metadata": {
        "outputId": "79c4ae7f-154d-4edf-d3a6-4ceed9c5b947",
        "id": "aYOjR4xM42RW",
        "colab": {
          "base_uri": "https://localhost:8080/",
          "height": 52
        }
      },
      "source": [
        "#hitung akurasi dan nilai error\n",
        "prediksi = gnb.predict(X_test)\n",
        "score = 0\n",
        "for p, t in zip(prediksi, Y_test):\n",
        "    if p == t:\n",
        "        score += 1\n",
        "print('Akurasi:', score/1000)\n",
        "print('Mean Square Error:', mse(prediksi, Y_test))"
      ],
      "execution_count": null,
      "outputs": [
        {
          "output_type": "stream",
          "text": [
            "Akurasi: 0.986\n",
            "Mean Square Error: 5.287\n"
          ],
          "name": "stdout"
        }
      ]
    },
    {
      "cell_type": "markdown",
      "metadata": {
        "id": "ePufe3jO42Rb"
      },
      "source": [
        "###RANDOM FOREST"
      ]
    },
    {
      "cell_type": "markdown",
      "metadata": {
        "id": "OHPxL9Od42Rc"
      },
      "source": [
        "* Random Forest dilakukan melalui penggabungan pohon (tree) dengan melakukan training pada sampel data yang dimiliki. Penentuan klasifikasi dengan random forest diambil berdasarkan hasil voting dari tree yang terbentuk.\n",
        "* lalu latih classifiernya terhadap data X agar menghasilkan output Y dengan clf.fit(X, Y)"
      ]
    },
    {
      "cell_type": "code",
      "metadata": {
        "outputId": "a6a44619-9194-44f5-d251-528c0c30597c",
        "id": "ObEAVee442Rd",
        "colab": {
          "base_uri": "https://localhost:8080/",
          "height": 159
        }
      },
      "source": [
        "#menggunakan algoritma random forest\n",
        "clf = RandomForestClassifier(n_estimators=10)\n",
        "clf.fit(X, Y)"
      ],
      "execution_count": null,
      "outputs": [
        {
          "output_type": "execute_result",
          "data": {
            "text/plain": [
              "RandomForestClassifier(bootstrap=True, ccp_alpha=0.0, class_weight=None,\n",
              "                       criterion='gini', max_depth=None, max_features='auto',\n",
              "                       max_leaf_nodes=None, max_samples=None,\n",
              "                       min_impurity_decrease=0.0, min_impurity_split=None,\n",
              "                       min_samples_leaf=1, min_samples_split=2,\n",
              "                       min_weight_fraction_leaf=0.0, n_estimators=10,\n",
              "                       n_jobs=None, oob_score=False, random_state=None,\n",
              "                       verbose=0, warm_start=False)"
            ]
          },
          "metadata": {
            "tags": []
          },
          "execution_count": 42
        }
      ]
    },
    {
      "cell_type": "markdown",
      "metadata": {
        "id": "O5U0yV_X42Rh"
      },
      "source": [
        "* Hitung Akurasi dengan  mencari hasil output data uji, lalu hasilnya dibandingkan dengan output sebenarnya yaitu label uji dan MSE\n",
        "\n"
      ]
    },
    {
      "cell_type": "code",
      "metadata": {
        "outputId": "dc61ca8e-8448-4f69-c8e6-5f528edb2f55",
        "id": "L_0X-n_M42Ri",
        "colab": {
          "base_uri": "https://localhost:8080/",
          "height": 52
        }
      },
      "source": [
        "#hitung akurasinya\n",
        "prediksi = clf.predict(X_test)\n",
        "score = 0\n",
        "for p, t in zip(prediksi, Y_test):\n",
        "    if p == t:\n",
        "        score += 1\n",
        "print('Akurasi:', score/1000)\n",
        "print('Mean Square Error:', mse(prediksi, Y_test))"
      ],
      "execution_count": null,
      "outputs": [
        {
          "output_type": "stream",
          "text": [
            "Akurasi: 0.803\n",
            "Mean Square Error: 5303.312\n"
          ],
          "name": "stdout"
        }
      ]
    },
    {
      "cell_type": "markdown",
      "metadata": {
        "id": "Dtn6SVCA42Rl"
      },
      "source": [
        "### DECISION TREE"
      ]
    },
    {
      "cell_type": "markdown",
      "metadata": {
        "id": "TObtJKVV42Rl"
      },
      "source": [
        "* Decision Tree dimulai dari root node hingga leaf node yang dilakukan secara rekursif. Di mana setiap percabangan menyatakan suatu kondisi yang harus dipenuhi dan pada setiap ujung pohon menyatakan kelas dari suatu data.\n",
        "*lalu latih classifiernya terhadap data X agar menghasilkan output Y dengan dtc.fit(X, Y)"
      ]
    },
    {
      "cell_type": "code",
      "metadata": {
        "id": "5rd_xi8C42Rl"
      },
      "source": [
        "dtc = tree.DecisionTreeClassifier()\n",
        "dtc = dtc.fit(X, Y)"
      ],
      "execution_count": null,
      "outputs": []
    },
    {
      "cell_type": "markdown",
      "metadata": {
        "id": "1ZacBUbX42Rn"
      },
      "source": [
        "* Hitung Akurasi dengan  mencari hasil output data uji, lalu hasilnya dibandingkan dengan output sebenarnya yaitu label uji dan MSE"
      ]
    },
    {
      "cell_type": "code",
      "metadata": {
        "outputId": "3069dffc-2951-44b1-e241-22ae15907bed",
        "id": "e0uSzmKH42Rn",
        "colab": {
          "base_uri": "https://localhost:8080/",
          "height": 52
        }
      },
      "source": [
        "#hitung akurasinya\n",
        "prediksi = dtc.predict(X_test)\n",
        "score = 0\n",
        "for p, t in zip(prediksi, Y_test):\n",
        "    if p == t:\n",
        "        score += 1\n",
        "print('Akurasi:', score/1000)\n",
        "print('Mean Square Error:', mse(prediksi, Y_test))"
      ],
      "execution_count": null,
      "outputs": [
        {
          "output_type": "stream",
          "text": [
            "Akurasi: 0.987\n",
            "Mean Square Error: 1563.248\n"
          ],
          "name": "stdout"
        }
      ]
    },
    {
      "cell_type": "markdown",
      "metadata": {
        "id": "S664tv_D8fCX"
      },
      "source": [
        "##KESIMPULAN\n",
        "* Hasil Klasifikasi ditentukan oleh fitur fitur yang sudah kita tentukan atau kita pilih, atribut dataset yang kita pilih menjadi data latih dan data uji, juga mempengaruhi hasil \n",
        "* Atribut dengan value unik yang sedikit juga mempengaruhi proses klasifikasi dan akurasi\n",
        "* Metode atau classifier yang berbeda beda, menghasilkan nilai akurasi yang berbeda beda\n",
        "* Dari tiga metode atau classifier yang digunakan, yaitu Naive Bayes, Random Forest, dan Decision Tree, setelah dilakukan dua kali ekperiman, dari nilai akurasinya dibuktikan bahwa algoritma yang baik untuk proses klasifikasi adalah algoritma Decision Tree"
      ]
    }
  ]
}